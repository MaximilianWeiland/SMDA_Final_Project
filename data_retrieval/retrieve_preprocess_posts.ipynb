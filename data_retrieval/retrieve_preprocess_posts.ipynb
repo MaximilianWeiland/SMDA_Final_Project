{
 "cells": [
  {
   "cell_type": "code",
   "execution_count": 99,
   "metadata": {},
   "outputs": [],
   "source": [
    "# install the requirements (if not already done)\n",
    "# !pip install atproto\n",
    "# !pip install pandas\n",
    "# !pip install emoji"
   ]
  },
  {
   "cell_type": "code",
   "execution_count": 100,
   "metadata": {},
   "outputs": [],
   "source": [
    "# load requirements\n",
    "from atproto import Client\n",
    "import pandas as pd\n",
    "from datetime import datetime\n",
    "import re\n",
    "import emoji"
   ]
  },
  {
   "cell_type": "code",
   "execution_count": 83,
   "metadata": {},
   "outputs": [],
   "source": [
    "# load the datasets containing MP data\n",
    "bundestag_21 = pd.read_csv(\"../data/clean_data/bundestag_21_clean.csv\")\n",
    "bundestag_25 = pd.read_csv(\"../data/clean_data/bundestag_25_clean.csv\")"
   ]
  },
  {
   "cell_type": "code",
   "execution_count": 84,
   "metadata": {},
   "outputs": [],
   "source": [
    "# for each dataset get only the MPs with existing bsky handles\n",
    "bundestag_21.dropna(subset=[\"clean_handle\"], inplace=True)\n",
    "bundestag_25.dropna(subset=[\"clean_handle\"], inplace=True)"
   ]
  },
  {
   "cell_type": "code",
   "execution_count": 21,
   "metadata": {},
   "outputs": [
    {
     "data": {
      "text/plain": [
       "ProfileViewDetailed(did='did:plc:5sqqg66p7muc7ogbp6xx4sw6', handle='mxwlnd.bsky.social', associated=ProfileAssociated(chat=None, feedgens=0, labeler=False, lists=0, starter_packs=0, py_type='app.bsky.actor.defs#profileAssociated'), avatar='https://cdn.bsky.app/img/avatar/plain/did:plc:5sqqg66p7muc7ogbp6xx4sw6/bafkreigwrjedzb7jvmowkn6fbe2atbnlwecsa4ouk5wpz54eg6rqkvayrq@jpeg', banner=None, created_at='2025-05-19T19:28:35.738Z', description=None, display_name='', followers_count=2, follows_count=1, indexed_at='2025-05-19T19:28:35.738Z', joined_via_starter_pack=None, labels=[], pinned_post=None, posts_count=0, verification=None, viewer=ViewerState(blocked_by=False, blocking=None, blocking_by_list=None, followed_by=None, following=None, known_followers=None, muted=False, muted_by_list=None, py_type='app.bsky.actor.defs#viewerState'), py_type='app.bsky.actor.defs#profileViewDetailed')"
      ]
     },
     "execution_count": 21,
     "metadata": {},
     "output_type": "execute_result"
    }
   ],
   "source": [
    "# create a client instance\n",
    "client = Client()\n",
    "\n",
    "# get the app password\n",
    "with open(\"app_password.txt\", \"r\") as f:\n",
    "    app_password = f.read()\n",
    "\n",
    "handle = \"mxwlnd.bsky.social\"\n",
    "\n",
    "# login with my credentials\n",
    "client.login(handle, app_password)"
   ]
  },
  {
   "cell_type": "code",
   "execution_count": 64,
   "metadata": {},
   "outputs": [],
   "source": [
    "# define a function that returns a df with all posts from given handle\n",
    "def clean_handle(raw_handle):\n",
    "    return re.sub(r'[\\u200b-\\u200f\\u202a-\\u202e\\u2060-\\u206f\\ufeff]', '', raw_handle.strip().lower())\n",
    "\n",
    "def retrieve_posts(df):\n",
    "    all_data = []\n",
    "    for _, row in df.iterrows():\n",
    "        handle = clean_handle(row[\"clean_handle\"])\n",
    "        faction_start = pd.to_datetime(row[\"faction_start\"])\n",
    "        faction_end = pd.to_datetime(row[\"faction_end\"])\n",
    "\n",
    "        if faction_start >= datetime(2024, 6, 1):\n",
    "            start_period = faction_start\n",
    "        else:\n",
    "            start_period = datetime(2024, 6, 1)\n",
    "        \n",
    "\n",
    "        if faction_end == datetime(2025, 3, 25):\n",
    "            end_period = datetime(2025, 3, 24)\n",
    "        elif pd.isnull(row[\"faction_end\"]):\n",
    "            end_period = datetime(2025, 6, 25)\n",
    "        else:\n",
    "            end_period = faction_end\n",
    "\n",
    "        try:\n",
    "            did = client.com.atproto.identity.resolve_handle({'handle': handle})['did']\n",
    "        except Exception as e:\n",
    "            print(f\"Failed to resolve handle {handle}: {e}\")\n",
    "            continue\n",
    "        \n",
    "        cursor = None\n",
    "        \n",
    "        keep_looping = True\n",
    "\n",
    "        while keep_looping == True:\n",
    "            response = client.app.bsky.feed.get_author_feed({\n",
    "                'actor': did,\n",
    "                'cursor': cursor,\n",
    "                'limit': 100\n",
    "            })\n",
    "\n",
    "            # get the response feed\n",
    "            feed = response['feed']\n",
    "\n",
    "            for item in feed:\n",
    "                post_handle = item[\"post\"][\"author\"][\"handle\"]\n",
    "                text = item[\"post\"][\"record\"][\"text\"]\n",
    "                date = item[\"post\"][\"record\"][\"created_at\"]\n",
    "                date = pd.to_datetime(date).tz_localize(None)\n",
    "\n",
    "                # filter out reposts\n",
    "                if handle == post_handle and start_period <= date <= end_period:\n",
    "                    post_data = row.to_dict()\n",
    "                    post_data.update({\n",
    "                        \"text\": text,\n",
    "                        \"date\": date\n",
    "                    })\n",
    "                    all_data.append(post_data)\n",
    "            cursor = response['cursor']\n",
    "            if not cursor:\n",
    "                keep_looping = False\n",
    "\n",
    "    df = pd.DataFrame(all_data).sort_values(by=\"date\", ascending=True)\n",
    "\n",
    "    return df\n"
   ]
  },
  {
   "cell_type": "code",
   "execution_count": 65,
   "metadata": {},
   "outputs": [],
   "source": [
    "# retrieve the posts for both legislatures\n",
    "posts_bt_21 = retrieve_posts(bundestag_21)\n",
    "posts_bt_25 = retrieve_posts(bundestag_25)"
   ]
  },
  {
   "cell_type": "code",
   "execution_count": 107,
   "metadata": {},
   "outputs": [],
   "source": [
    "# combine both dfs to one\n",
    "posts_bt_combined = pd.concat([posts_bt_21, posts_bt_25])\n",
    "\n",
    "# apply basic text cleaning\n",
    "def clean_text(text):\n",
    "    text = text.lower()\n",
    "    re.sub(r\"#(\\w+)\", r\"\\1\", text)\n",
    "    text = re.sub(r\"http\\S+|www\\S+\", \"\", text)\n",
    "    text = re.sub(r\"@\\w+\", \"\", text)\n",
    "    text = re.sub(r\"\\s+\", \" \", text).strip()\n",
    "    text = emoji.replace_emoji(text, replace=\"\")\n",
    "    return text\n",
    "\n",
    "posts_bt_combined[\"text\"] = posts_bt_combined[\"text\"].apply(clean_text)"
   ]
  },
  {
   "cell_type": "code",
   "execution_count": 110,
   "metadata": {},
   "outputs": [],
   "source": [
    "# export the dataset as a csv\n",
    "posts_bt_combined.to_csv(\"../data/clean_data/all_posts_cleaned.csv\", index=False)"
   ]
  }
 ],
 "metadata": {
  "kernelspec": {
   "display_name": "smda",
   "language": "python",
   "name": "python3"
  },
  "language_info": {
   "codemirror_mode": {
    "name": "ipython",
    "version": 3
   },
   "file_extension": ".py",
   "mimetype": "text/x-python",
   "name": "python",
   "nbconvert_exporter": "python",
   "pygments_lexer": "ipython3",
   "version": "3.13.4"
  },
  "orig_nbformat": 4
 },
 "nbformat": 4,
 "nbformat_minor": 2
}
