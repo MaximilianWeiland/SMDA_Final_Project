{
 "cells": [
  {
   "cell_type": "code",
   "execution_count": 60,
   "metadata": {},
   "outputs": [
    {
     "name": "stdout",
     "output_type": "stream",
     "text": [
      "Requirement already satisfied: atproto in ./venv_smda/lib/python3.13/site-packages (0.0.61)\n",
      "Requirement already satisfied: click<9,>=8.1.3 in ./venv_smda/lib/python3.13/site-packages (from atproto) (8.2.1)\n",
      "Requirement already satisfied: cryptography<46,>=41.0.7 in ./venv_smda/lib/python3.13/site-packages (from atproto) (45.0.3)\n",
      "Requirement already satisfied: dnspython<3,>=2.4.0 in ./venv_smda/lib/python3.13/site-packages (from atproto) (2.7.0)\n",
      "Requirement already satisfied: httpx<0.29.0,>=0.25.0 in ./venv_smda/lib/python3.13/site-packages (from atproto) (0.28.1)\n",
      "Requirement already satisfied: libipld<4,>=3.0.1 in ./venv_smda/lib/python3.13/site-packages (from atproto) (3.0.1)\n",
      "Requirement already satisfied: pydantic<3,>=2.7 in ./venv_smda/lib/python3.13/site-packages (from atproto) (2.11.5)\n",
      "Requirement already satisfied: typing-extensions<5,>=4.8.0 in ./venv_smda/lib/python3.13/site-packages (from atproto) (4.14.0)\n",
      "Requirement already satisfied: websockets<14,>=12 in ./venv_smda/lib/python3.13/site-packages (from atproto) (13.1)\n",
      "Requirement already satisfied: cffi>=1.14 in ./venv_smda/lib/python3.13/site-packages (from cryptography<46,>=41.0.7->atproto) (1.17.1)\n",
      "Requirement already satisfied: anyio in ./venv_smda/lib/python3.13/site-packages (from httpx<0.29.0,>=0.25.0->atproto) (4.9.0)\n",
      "Requirement already satisfied: certifi in ./venv_smda/lib/python3.13/site-packages (from httpx<0.29.0,>=0.25.0->atproto) (2025.4.26)\n",
      "Requirement already satisfied: httpcore==1.* in ./venv_smda/lib/python3.13/site-packages (from httpx<0.29.0,>=0.25.0->atproto) (1.0.9)\n",
      "Requirement already satisfied: idna in ./venv_smda/lib/python3.13/site-packages (from httpx<0.29.0,>=0.25.0->atproto) (3.10)\n",
      "Requirement already satisfied: h11>=0.16 in ./venv_smda/lib/python3.13/site-packages (from httpcore==1.*->httpx<0.29.0,>=0.25.0->atproto) (0.16.0)\n",
      "Requirement already satisfied: annotated-types>=0.6.0 in ./venv_smda/lib/python3.13/site-packages (from pydantic<3,>=2.7->atproto) (0.7.0)\n",
      "Requirement already satisfied: pydantic-core==2.33.2 in ./venv_smda/lib/python3.13/site-packages (from pydantic<3,>=2.7->atproto) (2.33.2)\n",
      "Requirement already satisfied: typing-inspection>=0.4.0 in ./venv_smda/lib/python3.13/site-packages (from pydantic<3,>=2.7->atproto) (0.4.1)\n",
      "Requirement already satisfied: pycparser in ./venv_smda/lib/python3.13/site-packages (from cffi>=1.14->cryptography<46,>=41.0.7->atproto) (2.22)\n",
      "Requirement already satisfied: sniffio>=1.1 in ./venv_smda/lib/python3.13/site-packages (from anyio->httpx<0.29.0,>=0.25.0->atproto) (1.3.1)\n",
      "Collecting pandas\n",
      "  Using cached pandas-2.3.0-cp313-cp313-macosx_11_0_arm64.whl.metadata (91 kB)\n",
      "Collecting numpy>=1.26.0 (from pandas)\n",
      "  Using cached numpy-2.3.0-cp313-cp313-macosx_14_0_arm64.whl.metadata (62 kB)\n",
      "Requirement already satisfied: python-dateutil>=2.8.2 in ./venv_smda/lib/python3.13/site-packages (from pandas) (2.9.0.post0)\n",
      "Collecting pytz>=2020.1 (from pandas)\n",
      "  Using cached pytz-2025.2-py2.py3-none-any.whl.metadata (22 kB)\n",
      "Collecting tzdata>=2022.7 (from pandas)\n",
      "  Using cached tzdata-2025.2-py2.py3-none-any.whl.metadata (1.4 kB)\n",
      "Requirement already satisfied: six>=1.5 in ./venv_smda/lib/python3.13/site-packages (from python-dateutil>=2.8.2->pandas) (1.17.0)\n",
      "Using cached pandas-2.3.0-cp313-cp313-macosx_11_0_arm64.whl (10.7 MB)\n",
      "Using cached numpy-2.3.0-cp313-cp313-macosx_14_0_arm64.whl (5.1 MB)\n",
      "Using cached pytz-2025.2-py2.py3-none-any.whl (509 kB)\n",
      "Using cached tzdata-2025.2-py2.py3-none-any.whl (347 kB)\n",
      "Installing collected packages: pytz, tzdata, numpy, pandas\n",
      "\u001b[2K   \u001b[90m━━━━━━━━━━━━━━━━━━━━━━━━━━━━━━━━━━━━━━━━\u001b[0m \u001b[32m4/4\u001b[0m [pandas]2m3/4\u001b[0m [pandas]\n",
      "\u001b[1A\u001b[2KSuccessfully installed numpy-2.3.0 pandas-2.3.0 pytz-2025.2 tzdata-2025.2\n"
     ]
    }
   ],
   "source": [
    "# install the requirements\n",
    "!pip install atproto\n",
    "!pip install pandas"
   ]
  },
  {
   "cell_type": "code",
   "execution_count": 61,
   "metadata": {},
   "outputs": [],
   "source": [
    "# load requirements\n",
    "from atproto import Client\n",
    "import pandas as pd"
   ]
  },
  {
   "cell_type": "code",
   "execution_count": 2,
   "metadata": {},
   "outputs": [
    {
     "data": {
      "text/plain": [
       "ProfileViewDetailed(did='did:plc:5sqqg66p7muc7ogbp6xx4sw6', handle='mxwlnd.bsky.social', associated=ProfileAssociated(chat=None, feedgens=0, labeler=False, lists=0, starter_packs=0, py_type='app.bsky.actor.defs#profileAssociated'), avatar='https://cdn.bsky.app/img/avatar/plain/did:plc:5sqqg66p7muc7ogbp6xx4sw6/bafkreigwrjedzb7jvmowkn6fbe2atbnlwecsa4ouk5wpz54eg6rqkvayrq@jpeg', banner=None, created_at='2025-05-19T19:28:35.738Z', description=None, display_name='', followers_count=2, follows_count=1, indexed_at='2025-05-19T19:28:35.738Z', joined_via_starter_pack=None, labels=[], pinned_post=None, posts_count=0, verification=None, viewer=ViewerState(blocked_by=False, blocking=None, blocking_by_list=None, followed_by=None, following=None, known_followers=None, muted=False, muted_by_list=None, py_type='app.bsky.actor.defs#viewerState'), py_type='app.bsky.actor.defs#profileViewDetailed')"
      ]
     },
     "execution_count": 2,
     "metadata": {},
     "output_type": "execute_result"
    }
   ],
   "source": [
    "# create a client instance\n",
    "client = Client()\n",
    "\n",
    "# get the app password\n",
    "with open(\"app_password.txt\", \"r\") as f:\n",
    "    app_password = f.read()\n",
    "\n",
    "handle = \"mxwlnd.bsky.social\"\n",
    "\n",
    "# login with my credentials\n",
    "client.login(handle, app_password)"
   ]
  },
  {
   "cell_type": "code",
   "execution_count": 92,
   "metadata": {},
   "outputs": [],
   "source": [
    "# define a function that returns a df with all posts from given handle\n",
    "\n",
    "def retrieve_posts(handle):\n",
    "    did = client.com.atproto.identity.resolve_handle({'handle': handle})['did']\n",
    "    cursor = None\n",
    "    all_posts = []\n",
    "    all_dates = []\n",
    "    keep_looping = True\n",
    "\n",
    "    while keep_looping == True:\n",
    "        response = client.app.bsky.feed.get_author_feed({\n",
    "            'actor': did,\n",
    "            'cursor': cursor,\n",
    "            'limit': 100\n",
    "        })\n",
    "\n",
    "        # get the response feed\n",
    "        feed = response['feed']\n",
    "\n",
    "        for item in feed:\n",
    "            post_handle = item[\"post\"][\"author\"][\"handle\"]\n",
    "            text = item[\"post\"][\"record\"][\"text\"]\n",
    "            date = item[\"post\"][\"record\"][\"created_at\"]\n",
    "\n",
    "            # filter out reposts\n",
    "            if handle == post_handle:\n",
    "                all_posts.append(text)\n",
    "                all_dates.append(date)\n",
    "\n",
    "        cursor = response['cursor']\n",
    "        if not cursor:\n",
    "            keep_looping = False\n",
    "\n",
    "    df = pd.DataFrame({\"text\": all_posts, \"date\": all_dates}).sort_values(by=\"date\", ascending=False)\n",
    "    \n",
    "\n",
    "    return df\n",
    "\n",
    "df = retrieve_posts('britta-hasselmann.de')\n"
   ]
  }
 ],
 "metadata": {
  "kernelspec": {
   "display_name": "smda",
   "language": "python",
   "name": "python3"
  },
  "language_info": {
   "codemirror_mode": {
    "name": "ipython",
    "version": 3
   },
   "file_extension": ".py",
   "mimetype": "text/x-python",
   "name": "python",
   "nbconvert_exporter": "python",
   "pygments_lexer": "ipython3",
   "version": "3.13.4"
  },
  "orig_nbformat": 4
 },
 "nbformat": 4,
 "nbformat_minor": 2
}
